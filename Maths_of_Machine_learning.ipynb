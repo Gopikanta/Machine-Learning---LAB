{
  "nbformat": 4,
  "nbformat_minor": 0,
  "metadata": {
    "colab": {
      "provenance": [],
      "authorship_tag": "ABX9TyPMQjV9kxjv1jHWpwURWykg",
      "include_colab_link": true
    },
    "kernelspec": {
      "name": "python3",
      "display_name": "Python 3"
    },
    "language_info": {
      "name": "python"
    }
  },
  "cells": [
    {
      "cell_type": "markdown",
      "metadata": {
        "id": "view-in-github",
        "colab_type": "text"
      },
      "source": [
        "<a href=\"https://colab.research.google.com/github/Gopikanta/Machine-Learning---LAB/blob/main/Maths_of_Machine_learning.ipynb\" target=\"_parent\"><img src=\"https://colab.research.google.com/assets/colab-badge.svg\" alt=\"Open In Colab\"/></a>"
      ]
    },
    {
      "cell_type": "code",
      "execution_count": null,
      "metadata": {
        "colab": {
          "base_uri": "https://localhost:8080/"
        },
        "id": "BiQq54vVAWaC",
        "outputId": "44113080-4c12-49e3-9050-cca9d66814eb"
      },
      "outputs": [
        {
          "output_type": "stream",
          "name": "stdout",
          "text": [
            "We created a vector from list: [10 20 32]\n"
          ]
        }
      ],
      "source": [
        "#define a vector\n",
        "import numpy as np\n",
        "list = [10, 20, 32]\n",
        "vector = np.array(list)\n",
        "print(\"We created a vector from list:\", vector)\n"
      ]
    },
    {
      "cell_type": "code",
      "source": [
        "#define a vector\n",
        "import numpy as np\n",
        "list = []\n",
        "limit = 3\n",
        "for i in range(limit):\n",
        "  elements = int(input(\"Enter the elements:\"))\n",
        "  list.append(elements)\n",
        "  vector = np.array(list)\n",
        "print(\"We define a vector from list:\", vector)"
      ],
      "metadata": {
        "colab": {
          "base_uri": "https://localhost:8080/"
        },
        "id": "5BMXlRor-b0A",
        "outputId": "05484f53-978b-40ec-d6e2-db2f5906e903"
      },
      "execution_count": null,
      "outputs": [
        {
          "output_type": "stream",
          "name": "stdout",
          "text": [
            "Enter the elements:34\n",
            "Enter the elements:45\n",
            "Enter the elements:23\n",
            "We define a vector from list: [34 45 23]\n"
          ]
        }
      ]
    },
    {
      "cell_type": "code",
      "source": [
        "#add 2 vectors using numpy array\n",
        "import numpy as np\n",
        "list1 = [3, 5, 6]\n",
        "list2 = [9, 2, 3]\n",
        "vector1 = np.array(list1)\n",
        "vector2 = np.array(list2)\n",
        "vector = vector1 + vector2\n",
        "print(vector)\n"
      ],
      "metadata": {
        "colab": {
          "base_uri": "https://localhost:8080/"
        },
        "id": "N_YHnKlGDllL",
        "outputId": "8f73728a-0f23-4e0d-ad0a-c4ac1c976648"
      },
      "execution_count": null,
      "outputs": [
        {
          "output_type": "stream",
          "name": "stdout",
          "text": [
            "[12  7  9]\n"
          ]
        }
      ]
    },
    {
      "cell_type": "code",
      "source": [
        "#add 2 numbers using numpyarary\n",
        "import numpy as np\n",
        "list1 = []\n",
        "list2 = []\n",
        "limit = int(input(\"Enter the limit:\"))\n",
        "for i in range(limit):\n",
        "   elements1 = int(input(\"Enter the elements:\"))\n",
        "   list1.append(elements1)\n",
        "print(list1)\n",
        "for j in range(limit):\n",
        "    elements2 = int(input(\"Enter the elements:\"))\n",
        "    list2.append(elements2)\n",
        "print(list2)\n",
        "vect1 = np.array(list1)\n",
        "vect2 = np.array(list2)\n",
        "vect = np.add(vect1,vect2)\n",
        "print(\"Sum of two vectors:\", vect)\n"
      ],
      "metadata": {
        "colab": {
          "base_uri": "https://localhost:8080/"
        },
        "id": "GV4_4DBpErLS",
        "outputId": "89fe734e-c32c-4e09-d59f-4220fcf023ec"
      },
      "execution_count": null,
      "outputs": [
        {
          "output_type": "stream",
          "name": "stdout",
          "text": [
            "Enter the limit:4\n",
            "Enter the elements:1\n",
            "Enter the elements:2\n",
            "Enter the elements:3\n",
            "Enter the elements:4\n",
            "[1, 2, 3, 4]\n",
            "Enter the elements:4\n",
            "Enter the elements:5\n",
            "Enter the elements:6\n",
            "Enter the elements:7\n",
            "[4, 5, 6, 7]\n",
            "Sum of two vectors: [ 5  7  9 11]\n"
          ]
        }
      ]
    },
    {
      "cell_type": "code",
      "source": [
        "#subtract two numbers\n",
        "import numpy as np\n",
        "list1 = [1, 2, 3]\n",
        "list2 = [4, 5, 6]\n",
        "vect1 = np.array(list1)\n",
        "vect2 = np.array(list2)\n",
        "vect = vect1 - vect2\n",
        "print(vect)"
      ],
      "metadata": {
        "colab": {
          "base_uri": "https://localhost:8080/"
        },
        "id": "Ku3L5EIz55Ji",
        "outputId": "a1ae4055-f3a4-4986-abe9-cbcdc1503221"
      },
      "execution_count": null,
      "outputs": [
        {
          "output_type": "stream",
          "name": "stdout",
          "text": [
            "[-3 -3 -3]\n"
          ]
        }
      ]
    },
    {
      "cell_type": "code",
      "source": [
        "#take 2 vector as user input\n",
        "#subtract\n",
        "import numpy as np\n",
        "list1 = []\n",
        "list2 = []\n",
        "limit = int(input(\"Enter the limit:\"))\n",
        "for i in range(limit):\n",
        "    elements1 = int(input(\"Enter the elements:\"))\n",
        "    list1.append(elements1)\n",
        "print(list1)\n",
        "for j in range(limit):\n",
        "    elements2 = int(input(\"Enter the elements:\"))\n",
        "    list2.append(elements2)\n",
        "print(list2)\n",
        "vect1 = np.array(list1)\n",
        "vect2 = np.array(list2)\n",
        "vect = np.subtract(vect1,vect2)\n",
        "print(\"Difference between two vectors\", vect)\n"
      ],
      "metadata": {
        "colab": {
          "base_uri": "https://localhost:8080/"
        },
        "id": "hHeFnb0W8Ca8",
        "outputId": "d683dfe2-0d3a-4918-9e42-87509e54fe21"
      },
      "execution_count": null,
      "outputs": [
        {
          "output_type": "stream",
          "name": "stdout",
          "text": [
            "Enter the limit:3\n",
            "Enter the elements:3\n",
            "Enter the elements:2\n",
            "Enter the elements:1\n",
            "[3, 2, 1]\n",
            "Enter the elements:2\n",
            "Enter the elements:1\n",
            "Enter the elements:1\n",
            "[2, 1, 1]\n",
            "Difference between two vectors [1 1 0]\n"
          ]
        }
      ]
    },
    {
      "cell_type": "code",
      "source": [
        "#multiply 2 vectors\n",
        "import numpy as np\n",
        "list1 = [2, 3, 4]\n",
        "list2 = [3, 4, 5]\n",
        "vect1 = np.array(list1)\n",
        "vect2 = np.array(list2)\n",
        "vect = vect1 * vect2\n",
        "print(vect)\n"
      ],
      "metadata": {
        "colab": {
          "base_uri": "https://localhost:8080/"
        },
        "id": "6OM5ywmwXCde",
        "outputId": "7ffe8f82-5ee1-47c5-f36a-fcbab038e6e7"
      },
      "execution_count": null,
      "outputs": [
        {
          "output_type": "stream",
          "name": "stdout",
          "text": [
            "[ 6 12 20]\n"
          ]
        }
      ]
    },
    {
      "cell_type": "code",
      "source": [
        "#multiply 2 numbers using vectors\n",
        "import numpy as np\n",
        "limit = int(input(\"Enter limit\"))\n",
        "list1 = []\n",
        "list2 = []\n",
        "for i in range(limit):\n",
        "    elements1 = int(input(\"Enter elements:\"))\n",
        "    list1.append(elements1)\n",
        "print(list1)\n",
        "for j in range(limit):\n",
        "    elements2 = int(input(\"Enter elements:\"))\n",
        "    list2.append(elements2)\n",
        "print(list2)\n",
        "vect1 = np.array(list1)\n",
        "vect2 = np.array(list2)\n",
        "vect = np.multiply(vect1,vect2)\n",
        "print(\"Division of two vectors;\", vect)"
      ],
      "metadata": {
        "colab": {
          "base_uri": "https://localhost:8080/"
        },
        "id": "Fc7SmYM_X7nR",
        "outputId": "0ce41075-7d9b-4813-98c4-27576c3eee4f"
      },
      "execution_count": null,
      "outputs": [
        {
          "output_type": "stream",
          "name": "stdout",
          "text": [
            "Enter limit3\n",
            "Enter elements:2\n",
            "Enter elements:3\n",
            "Enter elements:4\n",
            "[2, 3, 4]\n",
            "Enter elements:2\n",
            "Enter elements:3\n",
            "Enter elements:4\n",
            "[2, 3, 4]\n",
            "Division of two vectors; [ 4  9 16]\n"
          ]
        }
      ]
    },
    {
      "cell_type": "code",
      "source": [
        "#divide 2 vectors\n",
        "import numpy as np\n",
        "list1 = [2, 3, 4]\n",
        "list2 = [3, 4, 5]\n",
        "vect1 = np.array(list1)\n",
        "vect2 = np.array(list2)\n",
        "vect = vect1 / vect2\n",
        "print(vect)\n"
      ],
      "metadata": {
        "colab": {
          "base_uri": "https://localhost:8080/"
        },
        "id": "Y58CLgqXqs-O",
        "outputId": "b1b8a003-1314-4140-d17f-6f076a86fb48"
      },
      "execution_count": null,
      "outputs": [
        {
          "output_type": "stream",
          "name": "stdout",
          "text": [
            "[0.66666667 0.75       0.8       ]\n"
          ]
        }
      ]
    },
    {
      "cell_type": "code",
      "source": [
        "#divide 2 vectors(user)\n",
        "import numpy as np\n",
        "limit = int(input(\"Enter limit\"))\n",
        "list1 = []\n",
        "list2 = []\n",
        "for i in range(limit):\n",
        "    elements1 = int(input(\"Enter elements:\"))\n",
        "    list1.append(elements1)\n",
        "print(list1)\n",
        "for j in range(limit):\n",
        "    elements2 = int(input(\"Enter elements:\"))\n",
        "    list2.append(elements2)\n",
        "print(list2)\n",
        "vect1 = np.array(list1)\n",
        "vect2 = np.array(list2)\n",
        "vect = np.divide(vect1,vect2)\n",
        "print(\"Division of two vectors;\", vect)"
      ],
      "metadata": {
        "colab": {
          "base_uri": "https://localhost:8080/"
        },
        "id": "qLggcjJsq-GA",
        "outputId": "2f4c7081-2142-43f5-fbf5-ef90e7369eeb"
      },
      "execution_count": null,
      "outputs": [
        {
          "output_type": "stream",
          "name": "stdout",
          "text": [
            "Enter limit3\n",
            "Enter elements:2\n",
            "Enter elements:3\n",
            "Enter elements:4\n",
            "[2, 3, 4]\n",
            "Enter elements:2\n",
            "Enter elements:3\n",
            "Enter elements:4\n",
            "[2, 3, 4]\n",
            "Division of two vectors; [1. 1. 1.]\n"
          ]
        }
      ]
    },
    {
      "cell_type": "code",
      "source": [
        "#dot product\n",
        "import numpy as np\n",
        "list1 = [10, 20, 30, 40, 50]\n",
        "list2 = [2, 4, 6, 8, 10]\n",
        "vect1 = np.array(list1)\n",
        "vect2 = np.array(list2)\n",
        "vect = vect1.dot(vect2)\n",
        "print(\"Dot product\", vect)"
      ],
      "metadata": {
        "colab": {
          "base_uri": "https://localhost:8080/"
        },
        "id": "lnFdst7Lrxuf",
        "outputId": "3476e27a-267c-4655-bda6-6fe6ea9f6ed6"
      },
      "execution_count": null,
      "outputs": [
        {
          "output_type": "stream",
          "name": "stdout",
          "text": [
            "Dot product 1100\n"
          ]
        }
      ]
    },
    {
      "cell_type": "code",
      "source": [
        "#dot product\n",
        "import numpy as np\n",
        "list1 = []\n",
        "list2 = []\n",
        "limit = int(input(\"Enter the limit:\"))\n",
        "for i in range(limit):\n",
        "    elements1 = int(input(\"Enter the elements:\"))\n",
        "    list1.append(elements1)\n",
        "print(list1)\n",
        "for j in range(limit):\n",
        "    elements2 = int(input(\"Enter the elements:\"))\n",
        "    list2.append(elements2)\n",
        "print(list2)\n",
        "vect1 = np.array(list1)\n",
        "vect2 = np.array(list2)\n",
        "vect = vect1.dot(vect2)\n",
        "print(vect)"
      ],
      "metadata": {
        "colab": {
          "base_uri": "https://localhost:8080/"
        },
        "id": "yu5W7h9vvZrQ",
        "outputId": "72e73447-6a89-4cd5-ae91-f55cd90b5ffd"
      },
      "execution_count": null,
      "outputs": [
        {
          "output_type": "stream",
          "name": "stdout",
          "text": [
            "Enter the limit:3\n",
            "Enter the elements:2\n",
            "Enter the elements:4\n",
            "Enter the elements:6\n",
            "[2, 4, 6]\n",
            "Enter the elements:2\n",
            "Enter the elements:4\n",
            "Enter the elements:6\n",
            "[2, 4, 6]\n",
            "56\n"
          ]
        }
      ]
    },
    {
      "cell_type": "code",
      "source": [
        "#vectorscalar multiplication\n",
        "import numpy as np\n",
        "list1 = [10, 20, 30]\n",
        "scalar = [2]\n",
        "vect1 = np.array(list1)\n",
        "vect2 = np.array(scalar)\n",
        "vect = vect2*(vect1)\n",
        "print(\"Vector scalar form:\", vect)\n"
      ],
      "metadata": {
        "id": "Lt3TDyMS0qjq",
        "colab": {
          "base_uri": "https://localhost:8080/"
        },
        "outputId": "d341127d-6148-48ee-a6a4-025c7dc290a6"
      },
      "execution_count": null,
      "outputs": [
        {
          "output_type": "stream",
          "name": "stdout",
          "text": [
            "Vector scalar form: [20 40 60]\n"
          ]
        }
      ]
    },
    {
      "cell_type": "code",
      "source": [
        "#vector scalar multiplication\n",
        "import numpy as np\n",
        "array1 = []\n",
        "b = []\n",
        "limit = int(input(\"Enter the limit:\"))\n",
        "for i in range (limit):\n",
        "  elements = int(input(\"Enter the elements\"))\n",
        "  array1.append(elements)\n",
        "print(array1)\n",
        "b = int(input(\"Enter a number:\"))\n",
        "array =  * b\n",
        "print(vect)"
      ],
      "metadata": {
        "colab": {
          "base_uri": "https://localhost:8080/"
        },
        "id": "JTzrnCED8HIX",
        "outputId": "76ed6259-a2df-4466-ee36-8283a0b8d600"
      },
      "execution_count": null,
      "outputs": [
        {
          "output_type": "stream",
          "name": "stdout",
          "text": [
            "Enter the limit:3\n",
            "Enter the elements1\n",
            "Enter the elements2\n",
            "Enter the elements3\n",
            "[1, 2, 3]\n",
            "Enter a number:2\n",
            "[1, 2, 3, 1, 2, 3]\n"
          ]
        }
      ]
    },
    {
      "cell_type": "code",
      "source": [
        "#L1 norm\n",
        "from numpy import array\n",
        "from numpy . linalg import norm\n",
        "arr = array([1, 2, 3])\n",
        "L1 = norm(arr, 1)\n",
        "print(L1)"
      ],
      "metadata": {
        "colab": {
          "base_uri": "https://localhost:8080/"
        },
        "id": "2bov59tmBx_b",
        "outputId": "63715ab9-3428-4465-e812-74307c374b03"
      },
      "execution_count": null,
      "outputs": [
        {
          "output_type": "stream",
          "name": "stdout",
          "text": [
            "6.0\n"
          ]
        }
      ]
    },
    {
      "cell_type": "code",
      "source": [
        "\n",
        "#L1 norm\n",
        "from numpy import array\n",
        "from numpy . linalg import norm\n",
        "array = []\n",
        "b = []\n",
        "limit = int(input(\"Enter the limit:\"))\n",
        "for i in range(limit):\n",
        "   elements = int(input(\"Enter the elements:\"))\n",
        "   array.append(elements)\n",
        "print(array)\n",
        "b = int(input(\"Enter the value\"))\n",
        "L1 = norm(array,b)\n",
        "print(L1)\n",
        "\n",
        "\n",
        "\n"
      ],
      "metadata": {
        "colab": {
          "base_uri": "https://localhost:8080/"
        },
        "id": "2rWrKiOKDA84",
        "outputId": "ba55fd51-2678-4c35-8fe8-fc8212ce0d2e"
      },
      "execution_count": null,
      "outputs": [
        {
          "output_type": "stream",
          "name": "stdout",
          "text": [
            "Enter the limit:5\n",
            "Enter the elements:1\n",
            "Enter the elements:2\n",
            "Enter the elements:3\n",
            "Enter the elements:4\n",
            "Enter the elements:5\n",
            "[1, 2, 3, 4, 5]\n",
            "Enter the value1\n",
            "15.0\n"
          ]
        }
      ]
    },
    {
      "cell_type": "code",
      "source": [
        "#L2 norm\n",
        "from numpy import array\n",
        "from numpy . linalg import norm\n",
        "arr = array([1, 2, 3, 4, 5])\n",
        "print(arr)\n",
        "L2 = norm(arr,2)\n",
        "print(L2)"
      ],
      "metadata": {
        "colab": {
          "base_uri": "https://localhost:8080/"
        },
        "id": "xFFg3r7PIsmb",
        "outputId": "5fab987b-ae72-4c23-8335-f594fccf669c"
      },
      "execution_count": null,
      "outputs": [
        {
          "output_type": "stream",
          "name": "stdout",
          "text": [
            "[1 2 3 4 5]\n",
            "7.416198487095663\n"
          ]
        }
      ]
    },
    {
      "cell_type": "code",
      "source": [
        "#L2 norm\n",
        "from numpy import array\n",
        "from numpy . linalg import norm\n",
        "array = []\n",
        "b = 2\n",
        "limit = int(input(\"Enter a limit: \"))\n",
        "for i in range(limit):\n",
        "    elements = int(input(\"Enter the elements: \"))\n",
        "    array.append(elements)\n",
        "print(array)\n",
        "\n",
        "L2 = norm(array,b)\n",
        "print(L2)\n",
        "\n",
        "\n"
      ],
      "metadata": {
        "colab": {
          "base_uri": "https://localhost:8080/"
        },
        "id": "43gfw1cSK3p3",
        "outputId": "edb64830-6e30-4a04-a16c-e0b01e378120"
      },
      "execution_count": null,
      "outputs": [
        {
          "output_type": "stream",
          "name": "stdout",
          "text": [
            "Enter a limit: 5\n",
            "Enter the elements: 1\n",
            "Enter the elements: 2\n",
            "Enter the elements: 3\n",
            "Enter the elements: 4\n",
            "Enter the elements: 5\n",
            "[1, 2, 3, 4, 5]\n",
            "7.416198487095663\n"
          ]
        }
      ]
    }
  ]
}